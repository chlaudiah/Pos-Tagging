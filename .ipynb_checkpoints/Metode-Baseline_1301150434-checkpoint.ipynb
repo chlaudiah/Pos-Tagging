{
 "cells": [
  {
   "cell_type": "markdown",
   "metadata": {},
   "source": [
    "# <center> POS-Tagging dengan Metode Baseline </center>"
   ]
  },
  {
   "cell_type": "markdown",
   "metadata": {},
   "source": [
    "### <center> A. Pembangunan Model Data Train <center>"
   ]
  },
  {
   "cell_type": "code",
   "execution_count": 21,
   "metadata": {},
   "outputs": [],
   "source": [
    "def read_file(fname):\n",
    "    with open(fname) as f:\n",
    "        content = f.readlines()\n",
    "    content = [x.strip() for x in content]\n",
    "    return content"
   ]
  },
  {
   "cell_type": "code",
   "execution_count": 22,
   "metadata": {},
   "outputs": [],
   "source": [
    "def frekuensi(content):\n",
    "    tag_count = {} #menyimpan jumlah kemunculan tag\n",
    "    tag_count['<start>'] = 0 \n",
    "    word_tag = {} #jumlah sebuah kata diberi tag tertentu\n",
    "    idx_line = 0\n",
    "    is_first_word = 0\n",
    "    \n",
    "    while idx_line < len(content):\n",
    "        prev_tag = '<start>'\n",
    "        while not content[idx_line].startswith('</kalimat'):\n",
    "            #Jika bukan kata pertama dalam kalimat\n",
    "            if  not content[idx_line].startswith('<kalimat'):\n",
    "                content_part = content[idx_line].split('\\t')\n",
    "                if content_part[1] in tag_count:\n",
    "                    tag_count[content_part[1]] += 1\n",
    "                else:\n",
    "                    tag_count[content_part[1]] = 1\n",
    "                    \n",
    "                if (content_part[0],content_part[1]) in word_tag: #keys dibiarkan menjadi terpisah \n",
    "                    word_tag[(content_part[0],content_part[1])] += 1 #untuk memudahkan ketika mengambil indeks keys dictionary\n",
    "                else:    \n",
    "                    word_tag[(content_part[0],content_part[1])] = 1 #dan juga agar tanda ',' yg memisahkan kata dengan tag tidak dibaca sebagai string\n",
    "                  \n",
    "        #Jika kata pertama dalam kalimat    \n",
    "            else:\n",
    "                tag_count['<start>'] += 1\n",
    "                is_first_word = 1\n",
    "            idx_line = idx_line + 1\n",
    "\n",
    "        idx_line = idx_line+1       \n",
    "    return tag_count, word_tag"
   ]
  },
  {
   "cell_type": "code",
   "execution_count": 23,
   "metadata": {},
   "outputs": [],
   "source": [
    "jumlah_tag ={}\n",
    "jumlah_emission = {}\n",
    "jumlah_transisi = {}\n",
    "content = read_file('Data_Train.txt')\n",
    "jumlah_tag, jumlah_emission = frekuensi(content) #membangun dictionary untuk jumlah kemunculan tag dan jumlah kemunculan kata diberi tag tertentu"
   ]
  },
  {
   "cell_type": "markdown",
   "metadata": {},
   "source": [
    "## <center> B. Pengujian Model Data Train</center>"
   ]
  },
  {
   "cell_type": "code",
   "execution_count": 24,
   "metadata": {},
   "outputs": [],
   "source": [
    "test = read_file('Data_Test.txt')\n",
    "sentences= []\n",
    "tags = []\n",
    "index = 0\n",
    "while index < len(test):\n",
    "    sent = [] #untuk menampung katanya\n",
    "    tag = [] #untuk menampung postag dari tiap kata\n",
    "    while not test[index].startswith('</kalimat'): #batas akhir dari kalimat\n",
    "        if  not test[index].startswith('<kalimat'):\n",
    "            content_part = test[index].split('\\t')\n",
    "            sent.append(content_part[0])\n",
    "            tag.append(content_part[1])\n",
    "        index = index + 1\n",
    "    sentences.append(sent)\n",
    "    tags.append(tag)\n",
    "    index = index+2   "
   ]
  },
  {
   "cell_type": "code",
   "execution_count": 25,
   "metadata": {},
   "outputs": [],
   "source": [
    "kumpulan_kata = [] \n",
    "kumpulan_tag = []\n",
    "                                       #Mengambil setiap kata dalam kalimat dalam data test dan dijadikan dalam satu array yang menampung seluruh kata\n",
    "for sentence in sentences:\n",
    "    for i in range(len(sentence)):\n",
    "        kumpulan_kata.append(sentence[i]) \n",
    "        \n",
    "                                       #Mengambil setiap tag dari seluruh kata dalam data test dan dijadikan dalam satu array yang menampung seluruh tag\n",
    "for tag in tags:\n",
    "    for i in range(len(tag)):\n",
    "        kumpulan_tag.append(tag[i])"
   ]
  },
  {
   "cell_type": "code",
   "execution_count": 26,
   "metadata": {},
   "outputs": [],
   "source": [
    "keys = jumlah_emission.keys()\n",
    "word_keys=[]\n",
    "for word in keys:\n",
    "    word_keys.append(word[0]) #untuk mengambil kata yang menjadi keys didalam dictionary jumlah kemunculan kata diberi tag tertentu"
   ]
  },
  {
   "cell_type": "code",
   "execution_count": 27,
   "metadata": {
    "collapsed": true
   },
   "outputs": [
    {
     "name": "stdout",
     "output_type": "stream",
     "text": [
      "[('Perusahaan', 'NN', 20), ('Perusahaan', 'NNP', 13), ('ritel', 'NN', 1), ('PT', 'NNP', 159), ('Matahari', 'NNP', 1), ('Putra', 'NNP', 1), ('Prima', 'NNP', 3), ('Tbk', 'NNP', 51), ('MPPA', 'NN', 1), ('dalam', 'IN', 174), ('dalam', 'NN', 6), ('dalam', 'SC', 6), ('dalam', 'X', 1), ('tiga', 'CD', 18), ('bulan', 'NN', 44), ('pertama', 'OD', 39), ('yang', 'SC', 538), ('yang', 'DT', 1), ('berakhir', 'VB', 5), ('Maret', 'NNP', 14), ('2007', 'CD', 164), ('2007', 'NNP', 5), ('berhasil', 'VB', 11), ('meraih', 'VB', 9), ('laba bersih', 'NN', 23), ('Rp', 'SYM', 267), ('15,18', 'NN', 1), ('miliar', 'CD', 120), (',', 'Z', 1425), ('atau', 'CC', 96), ('naik', 'VB', 38), ('24,43', 'NN', 1), ('persen', 'CD', 369), ('dari', 'IN', 251), ('Rp', 'SYM', 267), ('12,20', 'NN', 1), ('miliar', 'CD', 120), ('pada', 'IN', 272), ('periode', 'NN', 46), ('sama', 'JJ', 38), ('tahun', 'NN', 168), ('tahun', 'NNP', 3), ('lalu', 'NN', 1), ('lalu', 'CC', 35), ('.', 'Z', 1012), ('.', 'NNP', 14), ('Penjualan', 'NN', 3), ('bersih', 'JJ', 11), ('perseroan', 'NN', 63), ('perseroan', 'NNP', 1), ('terlihat', 'VB', 3), ('meningkat', 'VB', 39), ('dari', 'IN', 251), ('Rp', 'SYM', 267), ('1,68', 'NN', 1), ('triliun', 'CD', 147), ('pada', 'IN', 272), ('kuartal', 'NN', 27), ('pertama', 'OD', 39), ('2006', 'CD', 83), ('2006', 'NNP', 3), ('menjadi', 'VB', 127), ('Rp', 'SYM', 267), ('2,02', 'NN', 1), ('triliun', 'CD', 147), ('pada', 'IN', 272), ('kuartal', 'NN', 27), ('pertama', 'OD', 39), ('2007', 'CD', 164), ('2007', 'NNP', 5), (',', 'Z', 1425), ('namun', 'CC', 21), ('laba', 'NN', 8), ('usaha', 'NN', 19), ('dalam', 'IN', 174), ('dalam', 'NN', 6), ('dalam', 'SC', 6), ('dalam', 'X', 1), ('periode', 'NN', 46), ('tersebut', 'PR', 118), ('menyusut', 'NN', 1), ('dari', 'IN', 251), ('semula', 'NN', 3), ('Rp', 'SYM', 267), ('58,27', 'NN', 1), ('miliar', 'CD', 120), ('menjadi', 'VB', 127), ('Rp', 'SYM', 267), ('41,39', 'NN', 1), ('miliar', 'CD', 120), ('.', 'Z', 1012), ('.', 'NNP', 14), ('Di', 'IN', 11), ('sisi', 'NN', 12), ('lain', 'JJ', 29), (',', 'Z', 1425), ('manajemen', 'NN', 6), ('perseroan', 'NN', 63), ('perseroan', 'NNP', 1), ('berhasil', 'VB', 11), ('memangkas', 'NN', 1), ('beban', 'NN', 3), ('lain-lain', 'JJ', 1), ('bersih', 'JJ', 11), ('perseroan', 'NN', 63), ('perseroan', 'NNP', 1), ('dari', 'IN', 251), ('Rp', 'SYM', 267), ('41,98', 'NN', 1), ('miliar', 'CD', 120), ('pada', 'IN', 272), ('kuartal', 'NN', 27), ('pertama', 'OD', 39), ('tahun', 'NN', 168), ('tahun', 'NNP', 3), ('lalu', 'NN', 1), ('lalu', 'CC', 35), ('menjadi', 'VB', 127), ('Rp', 'SYM', 267), ('34,11', 'NN', 1), ('miliar', 'CD', 120), ('pada', 'IN', 272), ('kuartal', 'NN', 27), ('pertama', 'OD', 39), ('tahun', 'NN', 168), ('tahun', 'NNP', 3), ('ini', 'PR', 199), (',', 'Z', 1425), ('sehingga', 'SC', 30), ('laba bersih', 'NN', 23), ('-nya', 'PRP', 456), ('masih', 'MD', 62), ('tetap', 'RB', 32), ('bertambah', 'VB', 3), ('.', 'Z', 1012), ('.', 'NNP', 14), ('Pada', 'IN', 15), ('tahun', 'NN', 168), ('tahun', 'NNP', 3), ('2006', 'CD', 83), ('2006', 'NNP', 3), ('Matahari', 'NNP', 1), ('berhasil', 'VB', 11), ('mencetak', 'NN', 1), ('laba bersih', 'NN', 23), ('sebesar', 'JJ', 126), ('Rp', 'SYM', 267), ('160,50', 'NN', 1), ('miliar', 'CD', 120), (',', 'Z', 1425), ('30,5', 'NN', 1), ('persen', 'CD', 369), ('diantaranya', 'NN', 1), ('akan', 'MD', 192), ('akan', 'IN', 1), ('dibagikan', 'NN', 1), ('sebagai', 'IN', 36), ('dividen', 'NN', 6), ('untuk', 'SC', 126), ('untuk', 'IN', 102), ('tahun', 'NN', 168), ('tahun', 'NNP', 3), ('buku', 'NN', 7), ('2006', 'CD', 83), ('2006', 'NNP', 3), (',', 'Z', 1425), ('yakni', 'SC', 10), ('sebesar', 'JJ', 126), ('Rp', 'SYM', 267), ('49', 'NN', 1), ('miliar', 'CD', 120), ('atau', 'CC', 96), ('Rp', 'SYM', 267), ('10,4', 'CD', 1), ('per', 'IN', 89), ('lembar', 'NND', 8), ('lembar', 'NN', 1), ('saham', 'NN', 90), ('saham', 'NNP', 1), ('.', 'Z', 1012), ('.', 'NNP', 14), ('Perusahaan', 'NN', 20), ('Perusahaan', 'NNP', 13), ('telepon seluler', 'NN', 1), ('PT', 'NNP', 159), ('Mobile', 'NNP', 2), ('-', 'Z', 104), ('-', 'NNP', 15), ('8', 'CD', 7), ('8', 'NNP', 2), ('FREN', 'NNP', 1), ('pada', 'IN', 272), ('kuartal', 'NN', 27), ('pertama', 'OD', 39), ('2007', 'CD', 164), ('2007', 'NNP', 5), ('berhasil', 'VB', 11), ('membukukan', 'VB', 5), ('laba bersih', 'NN', 23), ('Rp', 'SYM', 267), ('16,9', 'NN', 1), ('miliar', 'CD', 120), (',', 'Z', 1425), ('naik', 'VB', 38), ('sekitar', 'RB', 35), ('sekitar', 'IN', 5), ('sekitar', 'NN', 1), ('14,18', 'NN', 1), ('persen', 'CD', 369), ('dari', 'IN', 251), ('kuartal', 'NN', 27), ('sama', 'JJ', 38), ('tahun', 'NN', 168), ('tahun', 'NNP', 3), ('lalu', 'NN', 1), ('lalu', 'CC', 35), ('Rp', 'SYM', 267), ('14,8', 'NN', 1), ('miliar', 'CD', 120), ('.', 'Z', 1012), ('.', 'NNP', 14), ('Direktur', 'NNP', 28), ('Direktur', 'NN', 1), ('Utama', 'NNP', 10), ('FREN', 'NNP', 1), ('Hidajat', 'NN', 1), ('Thandradjaja', 'NN', 1), (',', 'Z', 1425), ('dalam', 'IN', 174), ('dalam', 'NN', 6), ('dalam', 'SC', 6), ('dalam', 'X', 1), ('keterangan', 'NN', 3), ('pers', 'NN', 3), ('Rabu', 'NNP', 23), (',', 'Z', 1425), ('mengatakan', 'VB', 92), ('naik', 'VB', 38), ('-nya', 'PRP', 456), ('laba bersih', 'NN', 23), ('ini', 'PR', 199), ('disebabkan', 'VB', 8), ('naik', 'VB', 38), ('-nya', 'PRP', 456), ('pendapatan', 'NN', 19), ('kotor', 'NN', 1), ('perseroan', 'NN', 63), ('perseroan', 'NNP', 1), ('yang', 'SC', 538), ('yang', 'DT', 1), ('meningkat', 'VB', 39), ('78,9', 'NN', 1), ('persen', 'CD', 369), ('menjadi', 'VB', 127), ('Rp', 'SYM', 267), ('229', 'NN', 1), ('miliar', 'CD', 120), ('pada', 'IN', 272), ('tiga', 'CD', 18), ('bulan', 'NN', 44), ('pertama', 'OD', 39), ('2007', 'CD', 164), ('2007', 'NNP', 5), ('dibanding', 'VB', 31), ('periode', 'NN', 46), ('sama', 'JJ', 38), ('2006', 'CD', 83), ('2006', 'NNP', 3), ('Rp', 'SYM', 267), ('128', 'NN', 1), ('miliar', 'CD', 120), ('.', 'Z', 1012), ('.', 'NNP', 14), ('Sedangkan', 'CC', 21), ('pendapatan', 'NN', 19), ('perseroan', 'NN', 63), ('perseroan', 'NNP', 1), ('juga', 'RB', 75), ('naik', 'VB', 38), ('93,3', 'NN', 1), ('persen', 'CD', 369), ('menjadi', 'VB', 127), ('dari', 'IN', 251), ('95,1', 'NN', 1), ('miliar', 'CD', 120), ('kuartal', 'NN', 27), ('pertama', 'OD', 39), ('2006', 'CD', 83), ('2006', 'NNP', 3), ('menjadi', 'VB', 127), ('Rp', 'SYM', 267), ('183,9', 'NN', 1), ('miliar', 'CD', 120), ('pada', 'IN', 272), ('kuartal', 'NN', 27), ('pertama', 'OD', 39), ('2007', 'CD', 164), ('2007', 'NNP', 5), ('.', 'Z', 1012), ('.', 'NNP', 14), ('Menurut', 'IN', 54), ('Hidajat', 'NN', 1), (',', 'Z', 1425), ('naik', 'VB', 38), ('-nya', 'PRP', 456), ('pendapatan', 'NN', 19), ('ini', 'PR', 199), ('karena', 'SC', 41), ('karena', 'IN', 27), ('perseroan', 'NN', 63), ('perseroan', 'NNP', 1), ('berhasil', 'VB', 11), ('meningkatkan', 'VB', 20), ('jumlah', 'NN', 16), ('pelanggan', 'NN', 1), ('sebesar', 'JJ', 126), ('101', 'CD', 1), ('persen', 'CD', 369), ('menjadi', 'VB', 127), ('2,020', 'NN', 1), ('juta', 'CD', 55), ('pelanggan', 'NN', 1), ('hingga', 'IN', 42), ('hingga', 'SC', 6), ('kuartal', 'NN', 27), ('pertama', 'OD', 39), ('2007', 'CD', 164), ('2007', 'NNP', 5), ('dibanding', 'VB', 31), ('periode', 'NN', 46), ('sama', 'JJ', 38), ('2006', 'CD', 83), ('2006', 'NNP', 3), ('sebanyak', 'CD', 16), ('satu', 'CD', 11), ('juta', 'CD', 55), ('pelanggan', 'NN', 1), ('.', 'Z', 1012), ('.', 'NNP', 14), ('Gubernur', 'NN', 4), ('Gubernur', 'NNP', 13), ('Bank', 'NNP', 93), ('Bank', 'NN', 5), ('Indonesia', 'NNP', 128), ('Burhanuddin', 'NNP', 7), ('Abdullah', 'NNP', 6), ('mengatakan', 'VB', 92), ('Bank', 'NNP', 93), ('Bank', 'NN', 5), ('Indonesia', 'NNP', 128), ('BI', 'NNP', 58), ('menjaga', 'VB', 14), ('rupiah', 'NN', 56), ('yang', 'SC', 538), ('yang', 'DT', 1), ('saat', 'SC', 5), ('saat', 'NN', 39), ('ini', 'PR', 199), ('stabil', 'JJ', 16), ('pada', 'IN', 272), ('kisaran', 'NN', 7), ('Rp', 'SYM', 267), ('9', 'CD', 9), ('per', 'IN', 89), ('dolar', 'NN', 143), ('AS', 'NNP', 153), ('agar', 'SC', 9), ('sektor', 'NN', 34), ('riil', 'JJ', 11), ('tidak', 'NEG', 81), ('terganggu', 'NN', 1), ('.', 'Z', 1012), ('.', 'NNP', 14), ('Kita', 'PRP', 12), ('akan', 'MD', 192), ('akan', 'IN', 1), ('usahakan', 'NN', 1), ('tetap', 'RB', 32), ('stabil', 'JJ', 16), ('dalam', 'IN', 174), ('dalam', 'NN', 6), ('dalam', 'SC', 6), ('dalam', 'X', 1), ('pengertian', 'NN', 1), ('volatilitas', 'NN', 3), ('-nya', 'PRP', 456), ('kita', 'PRP', 32), ('jaga', 'NN', 1), (',', 'Z', 1425), ('kalaupun', 'NN', 1), ('ia', 'PRP', 13), ('bergerak', 'VB', 4), ('tentu', 'RB', 1), ('saja', 'RB', 12), ('dalam', 'IN', 174), ('dalam', 'NN', 6), ('dalam', 'SC', 6), ('dalam', 'X', 1), (\"'\", 'NNP', 5), (\"'\", 'Z', 77), ('volatility', 'NN', 1), (\"'\", 'NNP', 5), (\"'\", 'Z', 77), ('yang', 'SC', 538), ('yang', 'DT', 1), ('sangat', 'RB', 25), ('terukur', 'NN', 1), (',', 'Z', 1425), ('kata', 'VB', 164), ('kata', 'NN', 1), ('Gubernur', 'NN', 4), ('Gubernur', 'NNP', 13), ('BI', 'NNP', 58), ('Burhanudin', 'NNP', 2), ('Abdullah', 'NNP', 6), ('di', 'IN', 360), ('Jakarta', 'NNP', 101), (',', 'Z', 1425), ('Rabu', 'NNP', 23), ('.', 'Z', 1012), ('.', 'NNP', 14), ('Ia', 'PRP', 25), ('mengatakan', 'VB', 92), ('penjagaan', 'NN', 1), ('stabilitas', 'NN', 8), ('rupiah', 'NN', 56), ('tersebut', 'PR', 118), ('digunakan', 'VB', 3), ('agar', 'SC', 9), ('tidak', 'NEG', 81), ('terjadi', 'VB', 28), ('dampak', 'NN', 8), ('yang', 'SC', 538), ('yang', 'DT', 1), ('merugikan', 'VB', 1), ('dalam', 'IN', 174), ('dalam', 'NN', 6), ('dalam', 'SC', 6), ('dalam', 'X', 1), ('perekonomian', 'NN', 12), ('.', 'Z', 1012), ('.', 'NNP', 14), ('Jangan', 'NN', 1), ('sampai', 'VB', 1), ('sampai', 'IN', 24), ('sampai', 'SC', 1), ('terjadi', 'VB', 28), ('perubahan', 'NN', 4), ('dalam', 'IN', 174), ('dalam', 'NN', 6), ('dalam', 'SC', 6), ('dalam', 'X', 1), ('tempo', 'NN', 1), ('yang', 'SC', 538), ('yang', 'DT', 1), ('sangat', 'RB', 25), ('dekat', 'JJ', 3), ('nilai tukar', 'NN', 21), ('rupiah', 'NN', 56), ('karena', 'SC', 41), ('karena', 'IN', 27), ('itu', 'PR', 146), ('akan', 'MD', 192), ('akan', 'IN', 1), ('mengganggu', 'VB', 3), ('bisnis', 'NN', 14), (',', 'Z', 1425), ('kata', 'VB', 164), ('kata', 'NN', 1), ('Burhanudin', 'NNP', 2), ('.', 'Z', 1012), ('.', 'NNP', 14), ('Burhanudin', 'NNP', 2), ('juga', 'RB', 75), ('menjelaskan', 'VB', 13), ('bahwa', 'SC', 38), ('BI', 'NNP', 58), ('tidak', 'NEG', 81), ('ada', 'VB', 28), ('niat', 'NN', 1), ('untuk', 'SC', 126), ('untuk', 'IN', 102), ('menahan', 'NN', 1), ('rupiah', 'NN', 56), ('melalui', 'IN', 21), ('melalui', 'VB', 1), (\"'\", 'NNP', 5), (\"'\", 'Z', 77), ('rate', 'FW', 16), (\"'\", 'NNP', 5), (\"'\", 'Z', 77), ('.', 'Z', 1012), ('.', 'NNP', 14), ('Yang', 'DT', 3), ('ditahan', 'NN', 1), ('itu', 'PR', 146), ('volatilitas', 'NN', 3), ('-nya', 'PRP', 456), (',', 'Z', 1425), ('bukan', 'NEG', 10), (\"'\", 'NNP', 5), (\"'\", 'Z', 77), ('rate', 'FW', 16), ('-nya', 'PRP', 456), (\"'\", 'NNP', 5), (\"'\", 'Z', 77), ('kita', 'PRP', 32), ('tidak', 'NEG', 81), ('mengarah', 'VB', 2), (\"'\", 'NNP', 5), (\"'\", 'Z', 77), ('rate', 'FW', 16), (\"'\", 'NNP', 5), (\"'\", 'Z', 77), ('berapa', 'SC', 1), (',', 'Z', 1425), ('kata', 'VB', 164), ('kata', 'NN', 1), ('Burhanudin', 'NNP', 2), ('.', 'Z', 1012), ('.', 'NNP', 14), ('Sementara', 'SC', 21), ('Sementara', 'CC', 18), ('itu', 'PR', 146), ('untuk', 'SC', 126), ('untuk', 'IN', 102), ('Surat', 'NNP', 3), ('Surat', 'NN', 3), ('Bank', 'NNP', 93), ('Bank', 'NN', 5), ('Indonesia', 'NNP', 128), ('SBI', 'NNP', 9), ('menurut', 'IN', 16), ('Burhanudin', 'NNP', 2), ('mengalami', 'VB', 14), ('kecenderungan', 'NN', 1), ('penurunan', 'NN', 24), ('.', 'Z', 1012), ('.', 'NNP', 14), ('Kalau', 'SC', 5), ('dilihat', 'VB', 3), ('dalam', 'IN', 174), ('dalam', 'NN', 6), ('dalam', 'SC', 6), ('dalam', 'X', 1), ('dua', 'CD', 21), ('kali', 'NND', 6), ('kali', 'NN', 4), ('lelang', 'NN', 4), ('terakhir', 'JJ', 13), ('terakhir', 'OD', 1), ('ada', 'VB', 28), ('penurunan', 'NN', 24), (',', 'Z', 1425), ('yang', 'SC', 538), ('yang', 'DT', 1), ('pertama', 'OD', 39), ('Rp', 'SYM', 267), ('16', 'CD', 3), ('triliun', 'CD', 147), ('dan', 'CC', 481), ('dan', 'NNP', 5), ('yang', 'SC', 538), ('yang', 'DT', 1), ('kedua', 'CD', 8), ('kedua', 'OD', 8), ('ada', 'VB', 28), ('penurunan', 'NN', 24), ('berapa', 'SC', 1), ('triliun', 'CD', 147), (',', 'Z', 1425), ('trend', 'FW', 3), ('-nya', 'PRP', 456), ('kalau', 'SC', 5), ('tidak', 'NEG', 81), ('levelling', 'NN', 1), ('off', 'NN', 1), (',', 'Z', 1425), ('menurun', 'VB', 5), ('trend', 'FW', 3), ('-nya', 'PRP', 456), (',', 'Z', 1425), ('kata', 'VB', 164), ('kata', 'NN', 1), ('Burhanudin', 'NNP', 2), ('.', 'Z', 1012), ('.', 'NNP', 14), ('Hal', 'NN', 5), ('ini', 'PR', 199), ('menurut', 'IN', 16), ('Burhanudin', 'NNP', 2), ('merupakan', 'VB', 34), ('indikasi', 'NN', 1), ('yang', 'SC', 538), ('yang', 'DT', 1), ('baik', 'JJ', 28), ('baik', 'CC', 4), ('di mana', 'SC', 7), ('ekspansi', 'NN', 4), ('bank', 'NN', 25), ('bank', 'NNP', 2), ('bank', 'FW', 1), ('di', 'IN', 360), ('perkreditan', 'NN', 1), ('mulai', 'MD', 15), ('mulai', 'VB', 6), ('bergulir', 'VB', 1), ('.', 'Z', 1012), ('.', 'NNP', 14), ('Ekspansi', 'NN', 1), ('di', 'IN', 360), ('bidang', 'NN', 16), ('perkreditan', 'NN', 1), ('sudah', 'MD', 32), ('mulai', 'MD', 15), ('mulai', 'VB', 6), ('terjadi', 'VB', 28), (',', 'Z', 1425), ('memang', 'RB', 4), ('kecepatan', 'NN', 1), ('-nya', 'PRP', 456), ('belum', 'NEG', 27), ('seperti', 'SC', 2), ('seperti', 'IN', 19), ('kita', 'PRP', 32), ('inginkan', 'NN', 1), ('.', 'Z', 1012), ('.', 'NNP', 14)]\n"
     ]
    }
   ],
   "source": [
    "word_tag=[] #array yang akan menampung seluruh kemungkinan tag terhadap kata yang ada didalam data test\n",
    "for kata in kumpulan_kata:\n",
    "    if kata in word_keys: #mengecek apakah kata dalam data test sudah pernah terbaca didalam model\n",
    "        for part_keys in keys:\n",
    "            if kata == part_keys[0]: #jika sudah pernah dibaca maka dicocokkan kata tersebut dengan kata yg ada didalam dictionary dan mengambil pasangan tag dari kata tersebut dan juga jumlah kemunculannya\n",
    "                word_tag.append((kata,part_keys[1],jumlah_emission[(kata,part_keys[1])]))\n",
    "    else:\n",
    "        jumlah_emission[(kata,'NN')] = 1 #jika belum pernah dibaca maka akan dimasukkan kedalam dictionary jumlah kemunculan kata tersebut dan diberi tag NN\n",
    "        word_tag.append((kata,'NN',1))\n",
    "print(word_tag)"
   ]
  },
  {
   "cell_type": "code",
   "execution_count": 28,
   "metadata": {},
   "outputs": [],
   "source": [
    "#Melakukan eliminasi terhadap kata yang memiliki lebih dari satu tag yang berbeda berdasarkan jumlah kemunculan terbanyak\n",
    "fix_word_tag = word_tag.copy()\n",
    "for i in range(len(word_tag)-1):\n",
    "    if word_tag[i] in fix_word_tag:\n",
    "        if word_tag[i][0] == word_tag[i+1][0] and word_tag[i][1] != word_tag[i+1]: #eliminasi hanya berlaku apabila ada tag yang berbeda dengan kata yang sama\n",
    "            if word_tag[i][2] > word_tag[i+1][2]:\n",
    "                fix_word_tag.remove(word_tag[i+1])\n",
    "            elif word_tag[i][2] < word_tag[i+1][2] and word_tag[i] in fix_word_tag: #apabila kata yang mau dieliminasi masih terdapat didalam array\n",
    "                fix_word_tag.remove(word_tag[i])\n",
    "            elif word_tag[i][2] == word_tag[i+1][2]:\n",
    "                fix_word_tag.remove(word_tag[i+1])"
   ]
  },
  {
   "cell_type": "code",
   "execution_count": 29,
   "metadata": {},
   "outputs": [],
   "source": [
    "#Melakukan eliminasi lagi seperti diatas, karena masih ada kata yang sama tetapi memiliki lebih dari satu tag\n",
    "fix_fix = fix_word_tag.copy()\n",
    "for i in range(len(fix_word_tag)-1):\n",
    "    if fix_word_tag[i] in fix_fix:\n",
    "        if fix_word_tag[i][0] == fix_word_tag[i+1][0] and word_tag[i][1] != word_tag[i+1]: #eliminasi hanya berlaku apabila ada tag yang berbeda dengan kata yang sama\n",
    "            if fix_word_tag[i][2] > fix_word_tag[i+1][2]:\n",
    "                fix_fix.remove(fix_word_tag[i+1])\n",
    "            elif fix_word_tag[i][2] < fix_word_tag[i+1][2]:\n",
    "                fix_fix.remove(fix_word_tag[i])\n",
    "            elif fix_word_tag[i][2] == fix_word_tag[i+1][2]:\n",
    "                fix_fix.remove(fix_word_tag[i+1])\n",
    "# print(fix_fix)"
   ]
  },
  {
   "cell_type": "code",
   "execution_count": 30,
   "metadata": {},
   "outputs": [],
   "source": [
    "tag_test = [] #menampung hasil tag dari proses pengujian model\n",
    "for i in range(len(fix_fix)):\n",
    "    tag_test.append(fix_fix[i][1]) #mengambil seluruh tag yang ada didalam array hasil akhir"
   ]
  },
  {
   "cell_type": "code",
   "execution_count": 31,
   "metadata": {},
   "outputs": [
    {
     "name": "stdout",
     "output_type": "stream",
     "text": [
      "1 Kata: MPPA Tag Test: NN Tag Asli: NNP\n",
      "2 Kata: 15,18 Tag Test: NN Tag Asli: CD\n",
      "3 Kata: 24,43 Tag Test: NN Tag Asli: CD\n",
      "4 Kata: 12,20 Tag Test: NN Tag Asli: CD\n",
      "5 Kata: 1,68 Tag Test: NN Tag Asli: CD\n",
      "6 Kata: 2,02 Tag Test: NN Tag Asli: CD\n",
      "7 Kata: menyusut Tag Test: NN Tag Asli: VB\n",
      "8 Kata: 58,27 Tag Test: NN Tag Asli: CD\n",
      "9 Kata: 41,39 Tag Test: NN Tag Asli: CD\n",
      "10 Kata: memangkas Tag Test: NN Tag Asli: VB\n",
      "11 Kata: 41,98 Tag Test: NN Tag Asli: CD\n",
      "12 Kata: 34,11 Tag Test: NN Tag Asli: CD\n",
      "13 Kata: mencetak Tag Test: NN Tag Asli: VB\n",
      "14 Kata: 160,50 Tag Test: NN Tag Asli: CD\n",
      "15 Kata: 30,5 Tag Test: NN Tag Asli: CD\n",
      "16 Kata: diantaranya Tag Test: NN Tag Asli: X\n",
      "17 Kata: dibagikan Tag Test: NN Tag Asli: VB\n",
      "18 Kata: 49 Tag Test: NN Tag Asli: CD\n",
      "19 Kata: - Tag Test: Z Tag Asli: NNP\n",
      "20 Kata: 8 Tag Test: CD Tag Asli: NNP\n",
      "21 Kata: 16,9 Tag Test: NN Tag Asli: CD\n",
      "22 Kata: sekitar Tag Test: RB Tag Asli: IN\n",
      "23 Kata: 14,18 Tag Test: NN Tag Asli: CD\n",
      "24 Kata: 14,8 Tag Test: NN Tag Asli: CD\n",
      "25 Kata: Hidajat Tag Test: NN Tag Asli: NNP\n",
      "26 Kata: Thandradjaja Tag Test: NN Tag Asli: NNP\n",
      "27 Kata: kotor Tag Test: NN Tag Asli: JJ\n",
      "28 Kata: 78,9 Tag Test: NN Tag Asli: CD\n",
      "29 Kata: 229 Tag Test: NN Tag Asli: CD\n",
      "30 Kata: 128 Tag Test: NN Tag Asli: CD\n",
      "31 Kata: 93,3 Tag Test: NN Tag Asli: CD\n",
      "32 Kata: 95,1 Tag Test: NN Tag Asli: CD\n",
      "33 Kata: 183,9 Tag Test: NN Tag Asli: CD\n",
      "34 Kata: Hidajat Tag Test: NN Tag Asli: NNP\n",
      "35 Kata: 2,020 Tag Test: NN Tag Asli: CD\n",
      "36 Kata: terganggu Tag Test: NN Tag Asli: VB\n",
      "37 Kata: usahakan Tag Test: NN Tag Asli: VB\n",
      "38 Kata: jaga Tag Test: NN Tag Asli: VB\n",
      "39 Kata: kalaupun Tag Test: NN Tag Asli: SC\n",
      "40 Kata: volatility Tag Test: NN Tag Asli: FW\n",
      "41 Kata: terukur Tag Test: NN Tag Asli: VB\n",
      "42 Kata: Jangan Tag Test: NN Tag Asli: NEG\n",
      "43 Kata: sampai Tag Test: IN Tag Asli: SC\n",
      "44 Kata: menahan Tag Test: NN Tag Asli: VB\n",
      "45 Kata: ditahan Tag Test: NN Tag Asli: VB\n",
      "46 Kata: berapa Tag Test: SC Tag Asli: WH\n",
      "47 Kata: kali Tag Test: NND Tag Asli: NN\n",
      "48 Kata: kedua Tag Test: CD Tag Asli: OD\n",
      "49 Kata: berapa Tag Test: SC Tag Asli: WH\n",
      "50 Kata: levelling Tag Test: NN Tag Asli: FW\n",
      "51 Kata: off Tag Test: NN Tag Asli: FW\n",
      "52 Kata: di mana Tag Test: SC Tag Asli: WH\n",
      "53 Kata: mulai Tag Test: MD Tag Asli: VB\n",
      "54 Kata: mulai Tag Test: MD Tag Asli: VB\n",
      "55 Kata: inginkan Tag Test: NN Tag Asli: VB\n",
      "55\n",
      "Akurasi Data Test:  88.97795591182364\n"
     ]
    }
   ],
   "source": [
    "# Melakukan perhitungan akurasi\n",
    "counter=0\n",
    "jumlah_salah = 0\n",
    "for i in range(len(tag_test)):\n",
    "    if tag_test[i] == kumpulan_tag[i]:\n",
    "        counter += 1\n",
    "    elif tag_test[i] != kumpulan_tag[i]:\n",
    "        jumlah_salah +=1\n",
    "        print(jumlah_salah , 'Kata: '+ fix_fix[i][0], 'Tag Test: '+tag_test[i], 'Tag Asli: '+kumpulan_tag[i])\n",
    "#         print('---------------------')\n",
    "print(jumlah_salah)\n",
    "akurasi = (counter/len(kumpulan_tag)) * 100\n",
    "print('Akurasi Data Test: ',akurasi)"
   ]
  }
 ],
 "metadata": {
  "kernelspec": {
   "display_name": "Python 3",
   "language": "python",
   "name": "python3"
  },
  "language_info": {
   "codemirror_mode": {
    "name": "ipython",
    "version": 3
   },
   "file_extension": ".py",
   "mimetype": "text/x-python",
   "name": "python",
   "nbconvert_exporter": "python",
   "pygments_lexer": "ipython3",
   "version": "3.6.4"
  }
 },
 "nbformat": 4,
 "nbformat_minor": 2
}
